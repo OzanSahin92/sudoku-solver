{
 "cells": [
  {
   "cell_type": "code",
   "execution_count": 1,
   "id": "thousand-packing",
   "metadata": {},
   "outputs": [],
   "source": [
    "import numpy as np"
   ]
  },
  {
   "cell_type": "code",
   "execution_count": 51,
   "id": "77824818-0215-4a31-9b1d-f2ff40485e7f",
   "metadata": {},
   "outputs": [],
   "source": [
    "def print_sudoku_field(field):\n",
    "    for row in range(field.shape[0]):\n",
    "        if row % 3 == 0 and row != 0:\n",
    "            print('-----------------------')\n",
    "        for column in range(field.shape[1]):\n",
    "            if column % 3 == 0 and column != 0:\n",
    "                print(' | ', end='')\n",
    "            print(str(field[row, column]) + ' ', end='')\n",
    "            if column == 8:\n",
    "                print('\\n')"
   ]
  },
  {
   "cell_type": "code",
   "execution_count": 19,
   "id": "de22a8b8-521e-41b9-acd2-95fa2f09ae47",
   "metadata": {},
   "outputs": [],
   "source": [
    "def empty_sq(field):\n",
    "    for row in range(field.shape[0]):\n",
    "        for column in range(field.shape[1]):\n",
    "            if field[row, column] == 0:\n",
    "                return (row, column)\n",
    "            else:\n",
    "                return (100, 100)"
   ]
  },
  {
   "cell_type": "code",
   "execution_count": 80,
   "id": "30e24b5c-b2be-4a72-b558-0c23b520b285",
   "metadata": {},
   "outputs": [],
   "source": [
    "def check_pos_val(field, pos, val):\n",
    "    row_to_check = field[pos[0],:]\n",
    "    column_to_check = field[:,pos[1]]\n",
    "    for i in range(len(row_to_check)):\n",
    "        if i == pos[0]:\n",
    "            continue\n",
    "        else:\n",
    "            if row_to_check[i] == val:\n",
    "                return False\n",
    "    for j in range(len(column_to_check)):\n",
    "        if j == pos[1]:\n",
    "            continue\n",
    "        else:\n",
    "            if column_to_check[j] == val:\n",
    "                return False\n",
    "    \n",
    "    box_row = pos[0] // 3\n",
    "    box_col = pos[1] // 3\n",
    "    \n",
    "    for i in range(box_row*3, box_row*3 + 3):\n",
    "        for j in range(box_col*3, box_col*3 + 3):\n",
    "            if (i, j) == pos:\n",
    "                continue\n",
    "            else:\n",
    "                if field[i,j] == val:\n",
    "                    return False\n",
    "    return True"
   ]
  },
  {
   "cell_type": "code",
   "execution_count": 29,
   "id": "9ba65cd0-a4dc-48f4-b9c2-cc4feac456e7",
   "metadata": {},
   "outputs": [
    {
     "data": {
      "text/plain": [
       "array([0, 3, 0, 0, 0, 0, 0, 0, 0])"
      ]
     },
     "execution_count": 29,
     "metadata": {},
     "output_type": "execute_result"
    }
   ],
   "source": [
    "sudoku_field[pos[0],:]"
   ]
  },
  {
   "cell_type": "code",
   "execution_count": 2,
   "id": "cooperative-stationery",
   "metadata": {},
   "outputs": [],
   "source": [
    "path_to_sudoku_field = '../data/sudoku_field.txt'"
   ]
  },
  {
   "cell_type": "code",
   "execution_count": 3,
   "id": "contrary-correspondence",
   "metadata": {},
   "outputs": [],
   "source": [
    "sudoku_field = np.loadtxt(path_to_sudoku_field, dtype=int)"
   ]
  },
  {
   "cell_type": "code",
   "execution_count": 33,
   "id": "incorporated-target",
   "metadata": {},
   "outputs": [
    {
     "data": {
      "text/plain": [
       "array([[0, 3, 0, 0, 0, 0, 0, 0, 0],\n",
       "       [0, 0, 0, 1, 9, 5, 0, 0, 0],\n",
       "       [0, 0, 8, 0, 0, 0, 0, 6, 0],\n",
       "       [8, 0, 0, 0, 6, 0, 0, 0, 0],\n",
       "       [4, 0, 0, 8, 0, 0, 0, 0, 1],\n",
       "       [0, 0, 0, 0, 2, 0, 0, 0, 0],\n",
       "       [0, 6, 0, 0, 0, 0, 2, 8, 0],\n",
       "       [0, 0, 0, 4, 1, 9, 0, 0, 5],\n",
       "       [0, 0, 0, 0, 0, 0, 0, 7, 0]])"
      ]
     },
     "execution_count": 33,
     "metadata": {},
     "output_type": "execute_result"
    }
   ],
   "source": [
    "sudoku_field"
   ]
  },
  {
   "cell_type": "code",
   "execution_count": 63,
   "id": "75a46df5-a5cf-4ea6-8778-2db4e02bf0c0",
   "metadata": {},
   "outputs": [
    {
     "name": "stdout",
     "output_type": "stream",
     "text": [
      "0 3 0  | 0 0 0  | 0 0 0 \n",
      "\n",
      "0 0 0  | 1 9 5  | 0 0 0 \n",
      "\n",
      "0 0 8  | 0 0 0  | 0 6 0 \n",
      "\n",
      "-----------------------\n",
      "8 0 0  | 0 6 0  | 0 0 0 \n",
      "\n",
      "4 0 0  | 8 0 0  | 0 0 1 \n",
      "\n",
      "0 0 0  | 0 2 0  | 0 0 0 \n",
      "\n",
      "-----------------------\n",
      "0 6 0  | 0 0 0  | 2 8 0 \n",
      "\n",
      "0 0 0  | 4 1 9  | 0 0 5 \n",
      "\n",
      "0 0 0  | 0 0 0  | 0 7 0 \n",
      "\n"
     ]
    }
   ],
   "source": [
    "print_sudoku_field(sudoku_field)"
   ]
  },
  {
   "cell_type": "code",
   "execution_count": 57,
   "id": "8cd413d9-12dd-4b1b-87ca-5c0681d0625f",
   "metadata": {},
   "outputs": [
    {
     "data": {
      "text/plain": [
       "(0, 0)"
      ]
     },
     "execution_count": 57,
     "metadata": {},
     "output_type": "execute_result"
    }
   ],
   "source": [
    "pos = empty_sq(sudoku_field)\n",
    "pos"
   ]
  },
  {
   "cell_type": "code",
   "execution_count": 81,
   "id": "98cd5a51-e1f7-416f-94ab-76a21283e68e",
   "metadata": {},
   "outputs": [],
   "source": [
    "for val in range(1,10):\n",
    "    sudoku_field[pos] = val\n",
    "    check_pos_val(sudoku_field, pos, val)"
   ]
  },
  {
   "cell_type": "code",
   "execution_count": null,
   "id": "3c4d5e42-2572-4b7c-8868-8d279c7b5088",
   "metadata": {},
   "outputs": [],
   "source": []
  }
 ],
 "metadata": {
  "kernelspec": {
   "display_name": "Python 3 (ipykernel)",
   "language": "python",
   "name": "python3"
  },
  "language_info": {
   "codemirror_mode": {
    "name": "ipython",
    "version": 3
   },
   "file_extension": ".py",
   "mimetype": "text/x-python",
   "name": "python",
   "nbconvert_exporter": "python",
   "pygments_lexer": "ipython3",
   "version": "3.8.5"
  }
 },
 "nbformat": 4,
 "nbformat_minor": 5
}
