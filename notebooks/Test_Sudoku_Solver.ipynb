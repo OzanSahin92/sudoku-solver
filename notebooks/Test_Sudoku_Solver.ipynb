{
 "cells": [
  {
   "cell_type": "code",
   "execution_count": 9,
   "id": "thousand-packing",
   "metadata": {},
   "outputs": [],
   "source": [
    "import numpy as np"
   ]
  },
  {
   "cell_type": "code",
   "execution_count": 10,
   "id": "30e24b5c-b2be-4a72-b558-0c23b520b285",
   "metadata": {},
   "outputs": [],
   "source": [
    "# validity check sudoku\n",
    "def check_pos_val(y, x, val):\n",
    "    global field\n",
    "    # check row of pos\n",
    "    for i in range(9):\n",
    "        if field[y][i] == val:\n",
    "            return False\n",
    "    # check col of pos\n",
    "    for i in range(9):\n",
    "        if field[i][x] == val:\n",
    "            return False\n",
    "    # check box of pos\n",
    "    y0 = (y//3)*3\n",
    "    x0 = (x//3)*3\n",
    "    for i in range(3):\n",
    "        for j in range(3):\n",
    "            if field[y0+i][x0+j] == val:\n",
    "                return False\n",
    "    # if all checks got through, the val is possible for pos\n",
    "    return True"
   ]
  },
  {
   "cell_type": "code",
   "execution_count": 17,
   "id": "7ef8c6d3-f74f-4cc6-9165-1c06ea7f08a4",
   "metadata": {},
   "outputs": [],
   "source": [
    "def solve():\n",
    "    global field\n",
    "    for y in range(9):\n",
    "        for x in range(9):\n",
    "            if field[y][x] == 0:\n",
    "                for val in range(1,10):\n",
    "                    if check_pos_val(y, x, val):\n",
    "                        field[y][x] = val\n",
    "                        solve()\n",
    "                        field[y][x] = 0\n",
    "                return\n",
    "    print(field)"
   ]
  },
  {
   "cell_type": "code",
   "execution_count": 18,
   "id": "cooperative-stationery",
   "metadata": {},
   "outputs": [],
   "source": [
    "path_to_sudoku_field = '../data/sudoku_field.txt'"
   ]
  },
  {
   "cell_type": "code",
   "execution_count": 19,
   "id": "contrary-correspondence",
   "metadata": {},
   "outputs": [],
   "source": [
    "field = np.loadtxt(path_to_sudoku_field, dtype=int)"
   ]
  },
  {
   "cell_type": "code",
   "execution_count": 20,
   "id": "incorporated-target",
   "metadata": {},
   "outputs": [
    {
     "data": {
      "text/plain": [
       "array([[5, 3, 0, 0, 7, 0, 0, 0, 0],\n",
       "       [6, 0, 0, 1, 9, 5, 0, 0, 0],\n",
       "       [0, 9, 8, 0, 0, 0, 0, 6, 0],\n",
       "       [8, 0, 0, 0, 6, 0, 0, 0, 3],\n",
       "       [4, 0, 0, 8, 0, 3, 0, 0, 1],\n",
       "       [7, 0, 0, 0, 2, 0, 0, 0, 6],\n",
       "       [0, 6, 0, 0, 0, 0, 2, 8, 0],\n",
       "       [0, 0, 0, 4, 1, 9, 0, 0, 5],\n",
       "       [0, 0, 0, 0, 8, 0, 0, 7, 9]])"
      ]
     },
     "execution_count": 20,
     "metadata": {},
     "output_type": "execute_result"
    }
   ],
   "source": [
    "field"
   ]
  },
  {
   "cell_type": "code",
   "execution_count": 21,
   "id": "ed857411-dee0-4c3c-a312-4c84e129527b",
   "metadata": {},
   "outputs": [
    {
     "data": {
      "text/plain": [
       "True"
      ]
     },
     "execution_count": 21,
     "metadata": {},
     "output_type": "execute_result"
    }
   ],
   "source": [
    "check_pos_val(4, 4, 5)"
   ]
  },
  {
   "cell_type": "code",
   "execution_count": 22,
   "id": "98cd5a51-e1f7-416f-94ab-76a21283e68e",
   "metadata": {},
   "outputs": [
    {
     "name": "stdout",
     "output_type": "stream",
     "text": [
      "[[5 3 4 6 7 8 9 1 2]\n",
      " [6 7 2 1 9 5 3 4 8]\n",
      " [1 9 8 3 4 2 5 6 7]\n",
      " [8 5 9 7 6 1 4 2 3]\n",
      " [4 2 6 8 5 3 7 9 1]\n",
      " [7 1 3 9 2 4 8 5 6]\n",
      " [9 6 1 5 3 7 2 8 4]\n",
      " [2 8 7 4 1 9 6 3 5]\n",
      " [3 4 5 2 8 6 1 7 9]]\n"
     ]
    }
   ],
   "source": [
    "solve()"
   ]
  },
  {
   "cell_type": "code",
   "execution_count": null,
   "id": "3c4d5e42-2572-4b7c-8868-8d279c7b5088",
   "metadata": {},
   "outputs": [],
   "source": []
  }
 ],
 "metadata": {
  "kernelspec": {
   "display_name": "Python 3 (ipykernel)",
   "language": "python",
   "name": "python3"
  },
  "language_info": {
   "codemirror_mode": {
    "name": "ipython",
    "version": 3
   },
   "file_extension": ".py",
   "mimetype": "text/x-python",
   "name": "python",
   "nbconvert_exporter": "python",
   "pygments_lexer": "ipython3",
   "version": "3.8.5"
  }
 },
 "nbformat": 4,
 "nbformat_minor": 5
}
