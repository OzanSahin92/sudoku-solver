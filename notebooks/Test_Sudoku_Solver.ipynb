{
 "cells": [
  {
   "cell_type": "code",
   "execution_count": 1,
   "id": "thousand-packing",
   "metadata": {},
   "outputs": [],
   "source": [
    "import numpy as np"
   ]
  },
  {
   "cell_type": "code",
   "execution_count": 2,
   "id": "cooperative-stationery",
   "metadata": {},
   "outputs": [],
   "source": [
    "path_to_sudoku_field = '../data/sudoku_field.txt'"
   ]
  },
  {
   "cell_type": "code",
   "execution_count": 9,
   "id": "contrary-correspondence",
   "metadata": {},
   "outputs": [],
   "source": [
    "sudoku_field = np.loadtxt(path_to_sudoku_field, dtype=int)"
   ]
  },
  {
   "cell_type": "code",
   "execution_count": 10,
   "id": "incorporated-target",
   "metadata": {},
   "outputs": [
    {
     "data": {
      "text/plain": [
       "array([[0, 3, 0, 0, 0, 0, 0, 0, 0],\n",
       "       [0, 0, 0, 1, 9, 5, 0, 0, 0],\n",
       "       [0, 0, 8, 0, 0, 0, 0, 6, 0],\n",
       "       [8, 0, 0, 0, 6, 0, 0, 0, 0],\n",
       "       [4, 0, 0, 8, 0, 0, 0, 0, 1],\n",
       "       [0, 0, 0, 0, 2, 0, 0, 0, 0],\n",
       "       [0, 6, 0, 0, 0, 0, 2, 8, 0],\n",
       "       [0, 0, 0, 4, 1, 9, 0, 0, 5],\n",
       "       [0, 0, 0, 0, 0, 0, 0, 7, 0]])"
      ]
     },
     "execution_count": 10,
     "metadata": {},
     "output_type": "execute_result"
    }
   ],
   "source": [
    "sudoku_field"
   ]
  },
  {
   "cell_type": "code",
   "execution_count": null,
   "id": "exterior-petite",
   "metadata": {},
   "outputs": [],
   "source": []
  }
 ],
 "metadata": {
  "kernelspec": {
   "display_name": "Python 3",
   "language": "python",
   "name": "python3"
  },
  "language_info": {
   "codemirror_mode": {
    "name": "ipython",
    "version": 3
   },
   "file_extension": ".py",
   "mimetype": "text/x-python",
   "name": "python",
   "nbconvert_exporter": "python",
   "pygments_lexer": "ipython3",
   "version": "3.8.5"
  }
 },
 "nbformat": 4,
 "nbformat_minor": 5
}
